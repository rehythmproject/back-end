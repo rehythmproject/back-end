{
  "cells": [
    {
      "cell_type": "code",
      "execution_count": 1,
      "metadata": {
        "colab": {
          "base_uri": "https://localhost:8080/"
        },
        "id": "ET2zGt9Zha0J",
        "outputId": "c9b3772b-6177-4e68-cfd9-0eaaff31cba6"
      },
      "outputs": [
        {
          "name": "stdout",
          "output_type": "stream",
          "text": [
            "Requirement already satisfied: openai in /usr/local/lib/python3.10/dist-packages (0.28.0)\n",
            "Requirement already satisfied: requests>=2.20 in /usr/local/lib/python3.10/dist-packages (from openai) (2.32.3)\n",
            "Requirement already satisfied: tqdm in /usr/local/lib/python3.10/dist-packages (from openai) (4.67.1)\n",
            "Requirement already satisfied: aiohttp in /usr/local/lib/python3.10/dist-packages (from openai) (3.11.10)\n",
            "Requirement already satisfied: charset-normalizer<4,>=2 in /usr/local/lib/python3.10/dist-packages (from requests>=2.20->openai) (3.4.0)\n",
            "Requirement already satisfied: idna<4,>=2.5 in /usr/local/lib/python3.10/dist-packages (from requests>=2.20->openai) (3.10)\n",
            "Requirement already satisfied: urllib3<3,>=1.21.1 in /usr/local/lib/python3.10/dist-packages (from requests>=2.20->openai) (2.2.3)\n",
            "Requirement already satisfied: certifi>=2017.4.17 in /usr/local/lib/python3.10/dist-packages (from requests>=2.20->openai) (2024.12.14)\n",
            "Requirement already satisfied: aiohappyeyeballs>=2.3.0 in /usr/local/lib/python3.10/dist-packages (from aiohttp->openai) (2.4.4)\n",
            "Requirement already satisfied: aiosignal>=1.1.2 in /usr/local/lib/python3.10/dist-packages (from aiohttp->openai) (1.3.2)\n",
            "Requirement already satisfied: async-timeout<6.0,>=4.0 in /usr/local/lib/python3.10/dist-packages (from aiohttp->openai) (4.0.3)\n",
            "Requirement already satisfied: attrs>=17.3.0 in /usr/local/lib/python3.10/dist-packages (from aiohttp->openai) (24.3.0)\n",
            "Requirement already satisfied: frozenlist>=1.1.1 in /usr/local/lib/python3.10/dist-packages (from aiohttp->openai) (1.5.0)\n",
            "Requirement already satisfied: multidict<7.0,>=4.5 in /usr/local/lib/python3.10/dist-packages (from aiohttp->openai) (6.1.0)\n",
            "Requirement already satisfied: propcache>=0.2.0 in /usr/local/lib/python3.10/dist-packages (from aiohttp->openai) (0.2.1)\n",
            "Requirement already satisfied: yarl<2.0,>=1.17.0 in /usr/local/lib/python3.10/dist-packages (from aiohttp->openai) (1.18.3)\n",
            "Requirement already satisfied: typing-extensions>=4.1.0 in /usr/local/lib/python3.10/dist-packages (from multidict<7.0,>=4.5->aiohttp->openai) (4.12.2)\n"
          ]
        }
      ],
      "source": [
        "!pip install openai"
      ]
    },
    {
      "cell_type": "code",
      "execution_count": 4,
      "metadata": {
        "colab": {
          "base_uri": "https://localhost:8080/",
          "height": 662
        },
        "id": "S096CIK2iw9a",
        "outputId": "108671b6-676e-4e1e-e9f1-ab48544259b0"
      },
      "outputs": [
        {
          "name": "stdout",
          "output_type": "stream",
          "text": [
            "Found existing installation: openai 1.57.4\n",
            "Uninstalling openai-1.57.4:\n",
            "  Would remove:\n",
            "    /usr/local/bin/openai\n",
            "    /usr/local/lib/python3.10/dist-packages/openai-1.57.4.dist-info/*\n",
            "    /usr/local/lib/python3.10/dist-packages/openai/*\n",
            "Proceed (Y/n)? y\n",
            "  Successfully uninstalled openai-1.57.4\n",
            "Collecting openai==0.28\n",
            "  Downloading openai-0.28.0-py3-none-any.whl.metadata (13 kB)\n",
            "Requirement already satisfied: requests>=2.20 in /usr/local/lib/python3.10/dist-packages (from openai==0.28) (2.32.3)\n",
            "Requirement already satisfied: tqdm in /usr/local/lib/python3.10/dist-packages (from openai==0.28) (4.67.1)\n",
            "Requirement already satisfied: aiohttp in /usr/local/lib/python3.10/dist-packages (from openai==0.28) (3.11.10)\n",
            "Requirement already satisfied: charset-normalizer<4,>=2 in /usr/local/lib/python3.10/dist-packages (from requests>=2.20->openai==0.28) (3.4.0)\n",
            "Requirement already satisfied: idna<4,>=2.5 in /usr/local/lib/python3.10/dist-packages (from requests>=2.20->openai==0.28) (3.10)\n",
            "Requirement already satisfied: urllib3<3,>=1.21.1 in /usr/local/lib/python3.10/dist-packages (from requests>=2.20->openai==0.28) (2.2.3)\n",
            "Requirement already satisfied: certifi>=2017.4.17 in /usr/local/lib/python3.10/dist-packages (from requests>=2.20->openai==0.28) (2024.12.14)\n",
            "Requirement already satisfied: aiohappyeyeballs>=2.3.0 in /usr/local/lib/python3.10/dist-packages (from aiohttp->openai==0.28) (2.4.4)\n",
            "Requirement already satisfied: aiosignal>=1.1.2 in /usr/local/lib/python3.10/dist-packages (from aiohttp->openai==0.28) (1.3.2)\n",
            "Requirement already satisfied: async-timeout<6.0,>=4.0 in /usr/local/lib/python3.10/dist-packages (from aiohttp->openai==0.28) (4.0.3)\n",
            "Requirement already satisfied: attrs>=17.3.0 in /usr/local/lib/python3.10/dist-packages (from aiohttp->openai==0.28) (24.3.0)\n",
            "Requirement already satisfied: frozenlist>=1.1.1 in /usr/local/lib/python3.10/dist-packages (from aiohttp->openai==0.28) (1.5.0)\n",
            "Requirement already satisfied: multidict<7.0,>=4.5 in /usr/local/lib/python3.10/dist-packages (from aiohttp->openai==0.28) (6.1.0)\n",
            "Requirement already satisfied: propcache>=0.2.0 in /usr/local/lib/python3.10/dist-packages (from aiohttp->openai==0.28) (0.2.1)\n",
            "Requirement already satisfied: yarl<2.0,>=1.17.0 in /usr/local/lib/python3.10/dist-packages (from aiohttp->openai==0.28) (1.18.3)\n",
            "Requirement already satisfied: typing-extensions>=4.1.0 in /usr/local/lib/python3.10/dist-packages (from multidict<7.0,>=4.5->aiohttp->openai==0.28) (4.12.2)\n",
            "Downloading openai-0.28.0-py3-none-any.whl (76 kB)\n",
            "\u001b[2K   \u001b[90m━━━━━━━━━━━━━━━━━━━━━━━━━━━━━━━━━━━━━━━━\u001b[0m \u001b[32m76.5/76.5 kB\u001b[0m \u001b[31m1.8 MB/s\u001b[0m eta \u001b[36m0:00:00\u001b[0m\n",
            "\u001b[?25hInstalling collected packages: openai\n",
            "Successfully installed openai-0.28.0\n"
          ]
        },
        {
          "data": {
            "application/vnd.colab-display-data+json": {
              "id": "506aadad6c9f4fad8708942307a5bddf",
              "pip_warning": {
                "packages": [
                  "openai"
                ]
              }
            }
          },
          "metadata": {},
          "output_type": "display_data"
        }
      ],
      "source": [
        "!pip uninstall openai\n",
        "!pip install openai==0.28"
      ]
    },
    {
      "cell_type": "code",
      "execution_count": 2,
      "metadata": {
        "id": "aGhUccDZhxEk"
      },
      "outputs": [],
      "source": [
        "import openai\n",
        "\n",
        "# OpenAI API 키 설정\n",
        "openai.api_key = \"OpenAI API 키를 입력하세요\""
      ]
    },
    {
      "cell_type": "code",
      "execution_count": 7,
      "metadata": {
        "colab": {
          "base_uri": "https://localhost:8080/"
        },
        "id": "LGDUGiC5h3CA",
        "outputId": "4b9627a5-bc18-4a05-89e8-2744d7994dbf"
      },
      "outputs": [
        {
          "name": "stdout",
          "output_type": "stream",
          "text": [
            "회의 delLa :\n",
            "회의의 방향성과 목적은 각 분야별로 프로젝트의 기술 스택과 구조를 논의하고, 피드백을 통해 최적의 솔루션을 찾는 것입니다. 이번 회의에서는 프론트엔드, 백엔드, 데이터베이스, 보안 등 주요 분야에 대한 초기 방향성이 설정되었습니다.\n",
            "\n",
            "### 회의 방향성:\n",
            "1. **프론트엔드**: 사용자 경험을 중시하며, React를 사용하여 컴포넌트 기반 UI 개발을 진행합니다. CSS 프레임워크로는 Material-UI 등을 고려합니다.\n",
            "   \n",
            "2. **백엔드**: React와의 연동을 고려하여 RESTful API를 제공하며, 비동기 처리를 효율적으로 할 수 있는 구조로 설계합니다.\n",
            "\n",
            "3. **데이터베이스**: PostgreSQL을 기본으로 사용하고, 필요에 따라 NoSQL인 MongoDB와 혼용하여 스케일링을 고려합니다.\n",
            "\n",
            "4. **보안**: 인증 강화를 위해 OAuth 2.0과 JWT를 사용하며, 데이터 전송은 HTTPS를 통해 암호화합니다. 서버 측 보안 규칙을 철저히 준수합니다.\n",
            "\n",
            "5. **데이터베이스 마이그레이션**: Flyway나 Liquibase 같은 도구를 사용하여 데이터베이스 마이그레이션을 관리합니다.\n",
            "\n",
            "### 추가로 필요한 기술 및 솔루션:\n",
            "1. **프론트엔드 성능 최적화**: 코드 스플리팅, Lazy Loading 등을 통해 초기 로딩 성능을 개선할 수 있습니다.\n",
            "\n",
            "2. **백엔드 확장성**: 마이크로서비스 아키텍처를 고려하여 각 서비스의 독립성을 확보하고, 필요시 확장할 수 있는 구조를 마련합니다.\n",
            "\n",
            "3. **데이터베이스 성능 최적화**: 인덱싱, 쿼리 최적화, 캐싱 전략을 통해 데이터베이스 성능을 높일 수 있습니다.\n",
            "\n",
            "4. **보안 테스트**: 정기적인 보안 테스트 및 모의 해킹을 통해 시스템의 취약점을 점검하고 강화합니다.\n",
            "\n",
            "5. **CI/CD 파이프라인 구축**: 자동화된 배포 파이프라인을 구축하여 개발 및 배포 효율성을 높입니다.\n",
            "\n",
            "각 분야별로 세부 설계를 진행하면서 위의 추가 솔루션들을 고려하여 다음 회의 때 더 구체적인 계획을 논의할 수 있도록 준비하면 좋겠습니다.\n"
          ]
        }
      ],
      "source": [
        "def generate_feedback_from_file(file_path):\n",
        "    # 파일에서 회의 내용 읽기\n",
        "    with open(file_path, 'r', encoding='utf-8') as file:\n",
        "        meeting_notes = file.read()\n",
        "\n",
        "    # 프롬프트 정의\n",
        "    messages = [\n",
        "        {\"role\": \"system\", \"content\": \"회의내용들을 분석해서 회의의 방향성, 목적, 추가로 필요한 기술등의 솔루션을 제공해줘.\"},\n",
        "        {\"role\": \"user\", \"content\": f\"회의 내용: {meeting_notes}\"}\n",
        "    ]\n",
        "\n",
        "    response = openai.ChatCompletion.create(\n",
        "        model=\"gpt-4o\",  # GPT-4o 모델 사용\n",
        "        messages=messages,\n",
        "        max_tokens=600,\n",
        "        temperature=0.5,\n",
        "        stop=None  # 'stop'을 None으로 설정하면 API가 적절하게 응답을 종료합니다.\n",
        "    )\n",
        "\n",
        "    # 응답에서 피드백 텍스트 추출\n",
        "    feedback = response['choices'][0]['message']['content']\n",
        "    return feedback\n",
        "\n",
        "# 파일 경로 설정\n",
        "file_path = 'formatted_text.txt'\n",
        "\n",
        "feedback = generate_feedback_from_file(file_path)\n",
        "print(\"회의 delLa :\")\n",
        "print(feedback)\n"
      ]
    }
  ],
  "metadata": {
    "colab": {
      "provenance": []
    },
    "kernelspec": {
      "display_name": "Python 3",
      "name": "python3"
    },
    "language_info": {
      "name": "python"
    }
  },
  "nbformat": 4,
  "nbformat_minor": 0
}
